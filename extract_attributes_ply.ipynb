{
 "cells": [
  {
   "cell_type": "code",
   "execution_count": 3,
   "id": "9b33feea-3e43-48ec-8726-01fe13bac1a3",
   "metadata": {},
   "outputs": [
    {
     "name": "stdout",
     "output_type": "stream",
     "text": [
      "Point cloud info: PointCloud with 753747 points.\n",
      "Point coordinates:\n",
      " [[-24.28533554   5.66812515   8.59627724]\n",
      " [-24.28533554   5.60812473   8.59627724]\n",
      " [-24.28533554   5.54812527   8.59627724]\n",
      " ...\n",
      " [ 24.25466537   0.02812481  10.03627777]\n",
      " [ 24.27716446  -0.03187561  10.03627777]\n",
      " [ 24.30341339  -0.06562519  10.03627777]]\n",
      "RGB colors:\n",
      " [[0.44705882 0.22745098 0.08627451]\n",
      " [0.4627451  0.24313725 0.08627451]\n",
      " [0.47843137 0.24313725 0.08627451]\n",
      " ...\n",
      " [0.32156863 0.25882353 0.24313725]\n",
      " [0.30588235 0.24313725 0.22745098]\n",
      " [0.30588235 0.24313725 0.21176471]]\n",
      "Mean of the point cloud: [ 1.45983897 -1.00742515  7.63926703]\n",
      "Covariance Matrix:\n",
      "[[193.60333812  16.60946344   3.01078729]\n",
      " [ 16.60946344  30.79726831  -0.19788491]\n",
      " [  3.01078729  -0.19788491  13.9229967 ]]\n",
      "Normals:\n",
      " [[ 0.74340476 -0.02284984  0.66845138]\n",
      " [ 0.83164456  0.04993439  0.55305865]\n",
      " [ 0.80309721 -0.00574558  0.59582032]\n",
      " ...\n",
      " [ 0.94731968  0.30436276 -0.09974331]\n",
      " [ 0.91624434  0.38866455 -0.09713999]\n",
      " [ 0.90456614  0.41207417 -0.10933886]]\n"
     ]
    }
   ],
   "source": [
    "import open3d as o3d\n",
    "import numpy as np\n",
    "\n",
    "# Load the .ply file\n",
    "ply_file = \"D:\\GEO1101_Synthesisproject\\Scaniverse_2024-09-12_131939.ply\" #replace your .ply file path here \n",
    "pcd = o3d.io.read_point_cloud(ply_file)\n",
    "\n",
    "# Print general point cloud info\n",
    "print(\"Point cloud info:\", pcd)\n",
    "\n",
    "# Extract point coordinates\n",
    "points = np.asarray(pcd.points)\n",
    "print(\"Point coordinates:\\n\", points)\n",
    "\n",
    "# Extract RGB colors if present\n",
    "if pcd.has_colors():\n",
    "    rgb_values = np.asarray(pcd.colors)\n",
    "    print(\"RGB colors:\\n\", rgb_values)\n",
    "else:\n",
    "    print(\"No color information available.\")\n",
    "\n",
    "# Compute the mean of the points\n",
    "mean = np.mean(points, axis=0)\n",
    "print(f\"Mean of the point cloud: {mean}\")\n",
    "\n",
    "# Compute the covariance matrix of the points\n",
    "covariance_matrix = np.cov(points, rowvar=False)\n",
    "print(f\"Covariance Matrix:\\n{covariance_matrix}\")\n",
    "\n",
    "# If you need normals (useful for geometric analysis)\n",
    "pcd.estimate_normals()\n",
    "normals = np.asarray(pcd.normals)\n",
    "print(\"Normals:\\n\", normals)\n"
   ]
  },
  {
   "cell_type": "code",
   "execution_count": 4,
   "id": "b56253de-61c8-4aba-bace-b4e7d47a9644",
   "metadata": {},
   "outputs": [],
   "source": [
    "# Visualize the point cloud\n",
    "o3d.visualization.draw_geometries([pcd])\n"
   ]
  }
 ],
 "metadata": {
  "kernelspec": {
   "display_name": "Python 3 (ipykernel)",
   "language": "python",
   "name": "python3"
  },
  "language_info": {
   "codemirror_mode": {
    "name": "ipython",
    "version": 3
   },
   "file_extension": ".py",
   "mimetype": "text/x-python",
   "name": "python",
   "nbconvert_exporter": "python",
   "pygments_lexer": "ipython3",
   "version": "3.11.5"
  }
 },
 "nbformat": 4,
 "nbformat_minor": 5
}
