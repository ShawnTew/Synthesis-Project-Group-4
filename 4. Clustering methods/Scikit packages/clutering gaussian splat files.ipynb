{
 "cells": [
  {
   "metadata": {},
   "cell_type": "code",
   "outputs": [],
   "execution_count": null,
   "source": [
    "import matplotlib.pyplot as plt\n",
    "from plyfile import PlyData, PlyElement\n",
    "import numpy as np\n",
    "import pandas as pd\n",
    "from sklearn.cluster import KMeans\n",
    "from sklearn.decomposition import PCA\n",
    "from sklearn.mixture import GaussianMixture\n",
    "from sklearn.preprocessing import StandardScaler\n",
    "import seaborn as sns"
   ],
   "id": "bd8072d59706356f"
  },
  {
   "metadata": {
    "jupyter": {
     "is_executing": true
    }
   },
   "cell_type": "code",
   "source": [
    "# TO DO: set your file path \n",
    "file_path = \"path_to_your_gaussian splatted_ply_file\"\n",
    "\n",
    "ply_data = PlyData.read(file_path)\n",
    "vertices = ply_data['vertex']\n",
    "vertex_data = ply_data['vertex']\n",
    "headers = vertex_data.data.dtype.names\n",
    "\n",
    "variables_per_header = dict()\n",
    "for header in headers:\n",
    "    variables_per_header[header] = []\n",
    "\n",
    "for i, vertex in enumerate(vertices):\n",
    "    for header in headers:\n",
    "        variables_per_header[header].append(vertex_data[header][i])"
   ],
   "id": "d321c7945ebef5c",
   "outputs": [],
   "execution_count": null
  },
  {
   "metadata": {},
   "cell_type": "markdown",
   "source": "## Plot the values per feature in a histogram",
   "id": "24bf80094249e4"
  },
  {
   "metadata": {},
   "cell_type": "code",
   "outputs": [],
   "execution_count": null,
   "source": [
    "for header in headers:\n",
    "    data = np.array(variables_per_header[header])\n",
    "    finite_data = data[np.isfinite(data)]\n",
    "\n",
    "    if len(finite_data) > 0:\n",
    "        plt.hist(finite_data, bins=30, color='skyblue', edgecolor='black')\n",
    "        plt.xlabel(header)\n",
    "        plt.ylabel('Frequency')\n",
    "        plt.title(f'Histogram for {header}')\n",
    "        plt.show()\n",
    "    else:\n",
    "        print(f\"No valid data for {header} to plot.\")"
   ],
   "id": "a8001cf99e009f2b"
  },
  {
   "metadata": {},
   "cell_type": "code",
   "outputs": [],
   "execution_count": null,
   "source": [
    "original_df = pd.DataFrame.from_dict(variables_per_header)\n",
    "original_df.columns"
   ],
   "id": "e036e87e80cd4579"
  },
  {
   "metadata": {},
   "cell_type": "code",
   "outputs": [],
   "execution_count": null,
   "source": [
    "for col in original_df.columns:\n",
    "    values = original_df[col].unique()\n",
    "    print(f'For {col}, min = {min(values)}, max = {max(values)}')"
   ],
   "id": "c61ac5d4e850a39e"
  },
  {
   "metadata": {},
   "cell_type": "markdown",
   "source": [
    "f_dc_0,f_dc_1,f_dc_2: those are the direct (RGB) coefficients for the spherical harmonics.\n",
    "f_rest : are parameters of spherical harmonics to storage the colors.\n",
    "Scale : (x, y, z)\n",
    "Rotation : (Quaternions i, j, k, and a scalar component w)\n"
   ],
   "id": "958f0760b3a70c31"
  },
  {
   "metadata": {},
   "cell_type": "markdown",
   "source": "### Remove features that have for every point a value of 0",
   "id": "e457255633053c61"
  },
  {
   "metadata": {},
   "cell_type": "code",
   "outputs": [],
   "execution_count": null,
   "source": [
    "def remove_features_func(dictionairy, headers_to_remove):\n",
    "    dictionairy_copied = dictionairy.copy()\n",
    "    for header in headers_to_remove:\n",
    "        if header in dictionairy_copied.keys():\n",
    "            del dictionairy_copied[header]\n",
    "    return pd.DataFrame.from_dict(dictionairy_copied)"
   ],
   "id": "d507e3b9736639fa"
  },
  {
   "metadata": {},
   "cell_type": "code",
   "outputs": [],
   "execution_count": null,
   "source": [
    "# TO DO: based on the above information, give the names of all features that have the same value for every row. These features will be removed.\n",
    "features_zeroValues = ['feat1', 'feat2']\n",
    "data_without_zero_features = remove_features_func(variables_per_header, features_zeroValues)\n",
    "\n",
    "corr_1 = data_without_zero_features.corr()\n",
    "f, ax = plt.subplots(figsize=(10, 8))\n",
    "\n",
    "sns.heatmap(corr_1, mask=np.zeros_like(corr_1),\n",
    "            cmap=sns.diverging_palette(220, 10, as_cmap=True),\n",
    "            square=True, ax=ax, vmin=-1, vmax=1)"
   ],
   "id": "b24ebb31e54f0ee6"
  },
  {
   "metadata": {},
   "cell_type": "markdown",
   "source": "### Fill NaN values and infinity values + Reduce the dimensions",
   "id": "a036613a56ca82f5"
  },
  {
   "metadata": {},
   "cell_type": "code",
   "outputs": [],
   "execution_count": null,
   "source": [
    "data = data_without_zero_features.copy()\n",
    "data.fillna(data.mean(), inplace=True)\n",
    "data.replace([np.inf, -np.inf], np.nan, inplace=True) \n",
    "data.fillna(data.mean(), inplace=True)"
   ],
   "id": "62320af670a7959c"
  },
  {
   "metadata": {},
   "cell_type": "code",
   "outputs": [],
   "execution_count": null,
   "source": [
    "f_rest_columns = [col for col in data.columns if 'f_rest' in col]\n",
    "red_sperical_component = []\n",
    "green_sperical_component = []\n",
    "blue_sperical_component = []\n",
    "for col in f_rest_columns:\n",
    "    if int(col[7:]) % 3 == 0:\n",
    "        red_sperical_component.append(col)\n",
    "    elif int(col[7:]) % 3 == 1:\n",
    "        green_sperical_component.append(col)\n",
    "    elif int(col[7:]) % 3 == 2:\n",
    "        blue_sperical_component.append(col)\n",
    "        \n",
    "f_dc_columns = [col for col in data.columns if 'f_dc' in col]"
   ],
   "id": "1b26571d192cede0"
  },
  {
   "metadata": {},
   "cell_type": "code",
   "outputs": [],
   "execution_count": null,
   "source": [
    "def apply_pca(data, columns, n_components=1):\n",
    "    scaler = StandardScaler()\n",
    "    data_scaled = scaler.fit_transform(data[columns])\n",
    "    pca = PCA(n_components=n_components)\n",
    "    principal_components = pca.fit_transform(data_scaled)\n",
    "    return principal_components\n",
    "\n",
    "if red_sperical_component: \n",
    "    red_spherical_pca = apply_pca(data, red_sperical_component)\n",
    "\n",
    "if green_sperical_component: \n",
    "    green_spherical_pca = apply_pca(data, green_sperical_component)\n",
    "    \n",
    "if blue_sperical_component: \n",
    "    blue_spherical_pca = apply_pca(data, blue_sperical_component)\n",
    "\n",
    "if f_dc_columns:\n",
    "    f_dc_pca = apply_pca(data, f_dc_columns)\n",
    "\n",
    "data['Red_Spherical_Component'] = red_spherical_pca\n",
    "data['Green_Spherical_Component'] = green_spherical_pca\n",
    "data['Blue_Spherical_Component'] = blue_spherical_pca\n",
    "data['f_dc_Component'] = f_dc_pca\n",
    "\n",
    "data_filtered = remove_features_func(data, f_rest_columns + f_dc_columns)\n",
    "\n",
    "corr_2 = data_filtered.corr()\n",
    "f, ax = plt.subplots(figsize=(10, 8))\n",
    "\n",
    "sns.heatmap(corr_2, mask=np.zeros_like(corr_2),\n",
    "            cmap=sns.diverging_palette(220, 10, as_cmap=True),\n",
    "            square=True, ax=ax, vmin=-1, vmax=1)"
   ],
   "id": "1ebeed466bc04767"
  },
  {
   "metadata": {},
   "cell_type": "markdown",
   "source": "### Possible to apply a model and export the segmented gaussian spat as .ply file",
   "id": "cf7b3a06982330cd"
  },
  {
   "metadata": {},
   "cell_type": "code",
   "outputs": [],
   "execution_count": null,
   "source": [
    "def apply_model(dataframe, model, labels=True):\n",
    "    data_copy = dataframe.copy()\n",
    "    scaler = StandardScaler()\n",
    "    scaled_data = scaler.fit_transform(data_copy)\n",
    "    model.fit(scaled_data)\n",
    "    if labels:\n",
    "        data_copy['cluster'] = model.labels_\n",
    "    else:\n",
    "        data_copy['cluster'] = model.predict(scaled_data)\n",
    "    return data_copy"
   ],
   "id": "8d8bf361d02bb1e7"
  },
  {
   "metadata": {},
   "cell_type": "code",
   "outputs": [],
   "execution_count": null,
   "source": [
    "def export_GS_file_withClusters(original_dataframe, clustered_dataframe, name_ply_file):\n",
    "    complete_dataframe = original_dataframe.copy()\n",
    "    complete_dataframe['cluster'] = clustered_dataframe['cluster'].values \n",
    "    dtypes = []\n",
    "    for column in original_dataframe.columns:\n",
    "        dtypes.append((column, 'f4'))  \n",
    "    dtypes.append(('cluster', 'i4')) \n",
    "    vertex_data = np.array(list(zip(*[complete_dataframe[col] for col in complete_dataframe.columns])), dtype=dtypes)\n",
    "    vertex_element = PlyElement.describe(vertex_data, 'vertex')\n",
    "    ply_data = PlyData([vertex_element], text=False)\n",
    "    ply_data.write(name_ply_file)"
   ],
   "id": "888389b7b750407a"
  },
  {
   "metadata": {},
   "cell_type": "markdown",
   "source": "### Trying different clustering methods",
   "id": "d252dd4268934754"
  },
  {
   "metadata": {},
   "cell_type": "code",
   "outputs": [],
   "execution_count": null,
   "source": [
    "# TO DO: change the model if you want to or change the hyperparameters\n",
    "model = KMeans(n_clusters=14, random_state=42)\n",
    "df_cluster_kMeans14 = apply_model(data, model)\n",
    "export_GS_file_withClusters(original_df, df_cluster_kMeans14, \"../../7. Results/Segmented Gaussian splats/segmented_GS_kMeans14.ply\")"
   ],
   "id": "6a4f008a4ee731bc"
  },
  {
   "metadata": {},
   "cell_type": "code",
   "outputs": [],
   "execution_count": null,
   "source": [
    "model = GaussianMixture(n_components=7, random_state=0)\n",
    "df_clusterGM14 = apply_model(data_filtered, model, labels=False)\n",
    "export_GS_file_withClusters(original_df, df_clusterGM14, \"../../7. Results/Segmented Gaussian splats/segmented_GS_GaussianMixture14.ply\")"
   ],
   "id": "1912d3d5ad9dd1f"
  }
 ],
 "metadata": {
  "kernelspec": {
   "display_name": "Python 3",
   "language": "python",
   "name": "python3"
  },
  "language_info": {
   "codemirror_mode": {
    "name": "ipython",
    "version": 2
   },
   "file_extension": ".py",
   "mimetype": "text/x-python",
   "name": "python",
   "nbconvert_exporter": "python",
   "pygments_lexer": "ipython2",
   "version": "2.7.6"
  }
 },
 "nbformat": 4,
 "nbformat_minor": 5
}
