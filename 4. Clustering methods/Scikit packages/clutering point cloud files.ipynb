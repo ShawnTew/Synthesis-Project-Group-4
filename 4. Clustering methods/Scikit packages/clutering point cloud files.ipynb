{
 "cells": [
  {
   "metadata": {},
   "cell_type": "code",
   "outputs": [],
   "execution_count": null,
   "source": [
    "import matplotlib.pyplot as plt\n",
    "from plyfile import PlyData, PlyElement\n",
    "import numpy as np\n",
    "import pandas as pd\n",
    "from sklearn.cluster import KMeans\n",
    "from sklearn.mixture import GaussianMixture\n",
    "from sklearn.preprocessing import StandardScaler"
   ],
   "id": "f9c49e6efba9e5d4"
  },
  {
   "metadata": {},
   "cell_type": "code",
   "outputs": [],
   "execution_count": null,
   "source": [
    "# TO DO: set your file path \n",
    "file_path = \"path_to_your_LIDAR_generated_POINTCLOUD\"\n",
    "\n",
    "ply_data = PlyData.read(file_path)\n",
    "vertices = ply_data['vertex']\n",
    "vertex_data = ply_data['vertex']\n",
    "headers = vertex_data.data.dtype.names\n",
    "\n",
    "variables_per_header = dict()\n",
    "for header in headers:\n",
    "    variables_per_header[header] = []\n",
    "\n",
    "for i, vertex in enumerate(vertices):\n",
    "    for header in headers:\n",
    "        variables_per_header[header].append(vertex_data[header][i])\n",
    "\n",
    "original_df = pd.DataFrame.from_dict(variables_per_header)\n",
    "original_df.columns"
   ],
   "id": "d66765969b91c81"
  },
  {
   "metadata": {},
   "cell_type": "markdown",
   "source": "## Plot the values per feature in a histogram",
   "id": "24bf80094249e4"
  },
  {
   "metadata": {},
   "cell_type": "code",
   "outputs": [],
   "execution_count": null,
   "source": [
    "for header in headers:\n",
    "    data = np.array(variables_per_header[header])\n",
    "    finite_data = data[np.isfinite(data)]\n",
    "\n",
    "    if len(finite_data) > 0:\n",
    "        plt.hist(finite_data, bins=30, color='skyblue', edgecolor='black')\n",
    "        plt.xlabel(header)\n",
    "        plt.ylabel('Frequency')\n",
    "        plt.title(f'Histogram for {header}')\n",
    "        plt.show()\n",
    "    else:\n",
    "        print(f\"No valid data for {header} to plot.\")"
   ],
   "id": "c8885b3bdc0cb3ca"
  },
  {
   "metadata": {},
   "cell_type": "markdown",
   "source": "### Remove features that have for every point the same value",
   "id": "e457255633053c61"
  },
  {
   "metadata": {},
   "cell_type": "code",
   "outputs": [],
   "execution_count": null,
   "source": [
    "def remove_features_func(dictionairy, headers_to_remove):\n",
    "    dictionairy_copied = dictionairy.copy()\n",
    "    for header in headers_to_remove:\n",
    "        if header in dictionairy_copied.keys():\n",
    "            del dictionairy_copied[header]\n",
    "    return pd.DataFrame.from_dict(dictionairy_copied)"
   ],
   "id": "b1fae03cf70b5051"
  },
  {
   "metadata": {},
   "cell_type": "code",
   "outputs": [],
   "execution_count": null,
   "source": [
    "features_zeroValues = ['scalar_Return_Number', 'scalar_Number_Of_Returns']\n",
    "data_without_zero_features = remove_features_func(variables_per_header, features_zeroValues)"
   ],
   "id": "5426cb4e1beaea05"
  },
  {
   "metadata": {},
   "cell_type": "markdown",
   "source": "### Fill NaN values and infinity values",
   "id": "a036613a56ca82f5"
  },
  {
   "metadata": {},
   "cell_type": "code",
   "outputs": [],
   "execution_count": null,
   "source": [
    "data_filtered = data_without_zero_features.copy()\n",
    "data_filtered.fillna(data_filtered.mean(), inplace=True)\n",
    "data_filtered.replace([np.inf, -np.inf], np.nan, inplace=True) \n",
    "data_filtered.fillna(data_filtered.mean(), inplace=True)"
   ],
   "id": "f3611bfb62793fd0"
  },
  {
   "metadata": {},
   "cell_type": "markdown",
   "source": "### Possible to apply a model and export the segmented point cloud as a .ply file",
   "id": "cf7b3a06982330cd"
  },
  {
   "metadata": {},
   "cell_type": "code",
   "outputs": [],
   "execution_count": null,
   "source": [
    "def apply_model(dataframe, model, labels=True):\n",
    "    data_copy = dataframe.copy()\n",
    "    scaler = StandardScaler()\n",
    "    scaled_data = scaler.fit_transform(data_copy)\n",
    "    model.fit(scaled_data)\n",
    "    if labels:\n",
    "        data_copy['cluster'] = model.labels_\n",
    "    else:\n",
    "        data_copy['cluster'] = model.predict(scaled_data)\n",
    "    return data_copy"
   ],
   "id": "968ef91f4b435b30"
  },
  {
   "metadata": {},
   "cell_type": "code",
   "outputs": [],
   "execution_count": null,
   "source": [
    "def export_ply_file_withClusters(original_dataframe, clustered_dataframe, name_ply_file):\n",
    "    columns_xyz = ['x', 'y', 'z']\n",
    "    complete_dataframe = original_dataframe[columns_xyz].copy()\n",
    "    complete_dataframe['cluster'] = clustered_dataframe['cluster'].values \n",
    "    dtypes = []\n",
    "    for column in columns_xyz:\n",
    "        dtypes.append((column, 'f4'))  \n",
    "    dtypes.append(('cluster', 'i4')) \n",
    "    vertex_data = np.array(list(zip(*[complete_dataframe[col] for col in complete_dataframe.columns])), dtype=dtypes)\n",
    "    vertex_element = PlyElement.describe(vertex_data, 'vertex')\n",
    "    ply_data = PlyData([vertex_element], text=False)\n",
    "    ply_data.write(name_ply_file)"
   ],
   "id": "e7aca44f502e6bbf"
  },
  {
   "metadata": {},
   "cell_type": "markdown",
   "source": "### Trying different cluster models",
   "id": "d252dd4268934754"
  },
  {
   "metadata": {},
   "cell_type": "code",
   "outputs": [],
   "execution_count": null,
   "source": [
    "# TO DO: change the model if you want to or change the hyperparameters\n",
    "model = KMeans(n_clusters=14, random_state=42)\n",
    "df_cluster_kMeans14 = apply_model(data_filtered, model)\n",
    "export_ply_file_withClusters(original_df, df_cluster_kMeans14, \"../../7. Results/Segmented Point Cloud/cluster_kMeans14.ply\")"
   ],
   "id": "1ac3f45516b19504"
  },
  {
   "metadata": {},
   "cell_type": "code",
   "outputs": [],
   "execution_count": null,
   "source": [
    "model = GaussianMixture(n_components=14, random_state=0)\n",
    "df_clusterGM14 = apply_model(data_filtered, model, labels=False)\n",
    "export_ply_file_withClusters(original_df, df_clusterGM14, \"../../7. Results/Segmented Point Cloud/cluster_GM14.ply\")"
   ],
   "id": "9d368a0264d5f93c"
  }
 ],
 "metadata": {
  "kernelspec": {
   "display_name": "Python 3",
   "language": "python",
   "name": "python3"
  },
  "language_info": {
   "codemirror_mode": {
    "name": "ipython",
    "version": 2
   },
   "file_extension": ".py",
   "mimetype": "text/x-python",
   "name": "python",
   "nbconvert_exporter": "python",
   "pygments_lexer": "ipython2",
   "version": "2.7.6"
  }
 },
 "nbformat": 4,
 "nbformat_minor": 5
}
