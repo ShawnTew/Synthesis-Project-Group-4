{
 "cells": [
  {
   "cell_type": "code",
   "execution_count": 1,
   "id": "236a35b0-3001-4061-8293-ee38ca9b66d9",
   "metadata": {
    "ExecuteTime": {
     "end_time": "2024-10-09T12:38:16.685456500Z",
     "start_time": "2024-10-09T12:38:13.398530900Z"
    },
    "editable": true,
    "slideshow": {
     "slide_type": ""
    },
    "tags": []
   },
   "outputs": [
    {
     "name": "stdout",
     "output_type": "stream",
     "text": [
      "Jupyter environment detected. Enabling Open3D WebVisualizer.\n",
      "[Open3D INFO] WebRTC GUI backend enabled.\n",
      "[Open3D INFO] WebRTCWindowSystem: HTTP handshake server disabled.\n"
     ]
    }
   ],
   "source": [
    "# The Base libraries\n",
    "import numpy as np\n",
    "import matplotlib.pyplot as plt\n",
    "import cv2\n",
    "import laspy\n",
    "import open3d as o3d\n",
    "from plyfile import PlyData\n",
    "\n",
    "# The Deep Learning libraries\n",
    "import torch\n",
    "from segment_anything import sam_model_registry\n",
    "from segment_anything import SamAutomaticMaskGenerator"
   ]
  },
  {
   "cell_type": "code",
   "execution_count": null,
   "id": "3cb4ac8b-b594-471a-9dc3-8904a5e46d5d",
   "metadata": {
    "ExecuteTime": {
     "start_time": "2024-10-09T12:37:22.189677200Z"
    }
   },
   "outputs": [],
   "source": [
    "#selecting model checkpoint\n",
    "MODEL = \"1. Data/sam_vit_l_0b3195.pth\"\n",
    "#selecting gpu with cuda\n",
    "USED_D = torch.device('cuda:0')"
   ]
  },
  {
   "cell_type": "code",
   "execution_count": null,
   "id": "aa37bc3c-f820-4ca6-9d28-fb8435f0b61a",
   "metadata": {
    "ExecuteTime": {
     "start_time": "2024-10-09T12:37:22.195675500Z"
    }
   },
   "outputs": [],
   "source": [
    "def sam_masks(anns):\n",
    "    if len(anns) == 0:\n",
    "        return\n",
    "    sorted_anns = sorted(anns, key=(lambda x: x['area']), reverse=True)\n",
    "    ax = plt.gca()\n",
    "    ax.set_autoscale_on(False)\n",
    "    c_mask=[]\n",
    "    for ann in sorted_anns:\n",
    "        m = ann['segmentation']\n",
    "        img = np.ones((m.shape[0], m.shape[1], 3))\n",
    "        color_mask = np.random.random((1, 3)).tolist()[0]\n",
    "        for i in range(3):\n",
    "            img[:,:,i] = color_mask[i]\n",
    "        ax.imshow(np.dstack((img, m*1)))\n",
    "        c_mask.append(img)\n",
    "    return c_mask"
   ]
  },
  {
   "cell_type": "code",
   "execution_count": null,
   "id": "4efb0450-15ed-4b8a-b250-b9091d879594",
   "metadata": {
    "ExecuteTime": {
     "start_time": "2024-10-09T12:37:22.199677200Z"
    }
   },
   "outputs": [],
   "source": [
    "def cloud_to_image(pcd_np, resolution):\n",
    "    minx = np.min(pcd_np[:, 0])\n",
    "    maxx = np.max(pcd_np[:, 0])\n",
    "    miny = np.min(pcd_np[:, 1])\n",
    "    maxy = np.max(pcd_np[:, 1])\n",
    "\n",
    "    width = int((maxx - minx) / resolution) + 1\n",
    "    height = int((maxy - miny) / resolution) + 1\n",
    "\n",
    "    # Initialize empty image\n",
    "    image = np.zeros((height, width, 3), dtype=np.uint8)\n",
    "\n",
    "    # Compute pixel coordinates\n",
    "    pixel_x = np.clip(((pcd_np[:, 0] - minx) / resolution).astype(int), 0, width - 1)\n",
    "    pixel_y = np.clip(((maxy - pcd_np[:, 1]) / resolution).astype(int), 0, height - 1)\n",
    "\n",
    "    # Assign color to the image\n",
    "    image[pixel_y, pixel_x] = pcd_np[:, -3:].astype(np.uint8)\n",
    "\n",
    "    return image"
   ]
  },
  {
   "cell_type": "code",
   "execution_count": null,
   "id": "199182c2-df82-4f70-a60a-825038478e5a",
   "metadata": {},
   "outputs": [],
   "source": [
    "# Read the point cloud with Open3D\n",
    "pcd = PlyData.read(\"1. Data/SPLAT PLY_bouwpub cropped_inBlender.ply\")\n",
    "\n",
    "# Check if the file was loaded correctly\n",
    "if len(pcd.points) == 0:\n",
    "    print(\"Point cloud is empty. Ensure the file path and format are correct.\")\n",
    "else:\n",
    "    print(\"Point cloud loaded successfully!\")"
   ]
  },
  {
   "cell_type": "code",
   "execution_count": null,
   "id": "ed526fff-d22b-473c-b8e7-a6a67239d76c",
   "metadata": {
    "ExecuteTime": {
     "start_time": "2024-10-09T12:37:22.202678300Z"
    }
   },
   "outputs": [],
   "source": [
    "print(np.shape(orthoimage))\n"
   ]
  },
  {
   "cell_type": "code",
   "execution_count": null,
   "id": "7b437aee-72ab-418b-92e8-b2f587340adf",
   "metadata": {},
   "outputs": [],
   "source": [
    "def generate_spherical_image(center_coordinates, point_cloud, colors, resolution_y=500):\n",
    "    # Translate the point cloud by the negation of the center coordinates\n",
    "    translated_points = point_cloud - center_coordinates\n",
    "\n",
    "    # Calculate norms once for efficiency\n",
    "    norms = np.linalg.norm(translated_points, axis=1)\n",
    "    \n",
    "    # Convert 3D point cloud to spherical coordinates\n",
    "    theta = np.arctan2(translated_points[:, 1], translated_points[:, 0])\n",
    "    z_normalized = np.clip(translated_points[:, 2] / norms, -1.0, 1.0)\n",
    "    phi = np.arccos(z_normalized)\n",
    "\n",
    "    # Map spherical coordinates to pixel coordinates\n",
    "    resolution_x = 2 * resolution_y\n",
    "    x = (theta + np.pi) / (2 * np.pi) * resolution_x\n",
    "    y = phi / np.pi * resolution_y\n",
    "\n",
    "    # Create the spherical image with RGB channels\n",
    "    image = np.zeros((resolution_y, resolution_x, 3), dtype=np.uint8)\n",
    "\n",
    "    # Create the mapping between point cloud and image coordinates\n",
    "    mapping = np.full((resolution_y, resolution_x), -1, dtype=int)\n",
    "\n",
    "    # Assign points to the image pixels\n",
    "    for i in range(len(translated_points)):\n",
    "        ix = np.clip(int(x[i]), 0, resolution_x - 1)\n",
    "        iy = np.clip(int(y[i]), 0, resolution_y - 1)\n",
    "        # Update pixel if it's empty or closer than the current point\n",
    "        if mapping[iy, ix] == -1 or norms[i] < norms[mapping[iy, ix]]:\n",
    "            mapping[iy, ix] = i\n",
    "            image[iy, ix] = colors[i]\n",
    "    \n",
    "    return image, mapping\n"
   ]
  },
  {
   "cell_type": "code",
   "execution_count": null,
   "id": "f1eaede7-055b-4e21-ba8f-7f738981dd01",
   "metadata": {},
   "outputs": [],
   "source": [
    "ply_data = PlyData.read(\"1. Data/polycam_aligned.ply\")\n",
    "\n",
    "# Extracting the coordinates (x, y, z)\n",
    "coords = np.vstack((ply_data['vertex']['x'], ply_data['vertex']['y'], ply_data['vertex']['z'])).T\n",
    "\n",
    "\n",
    "\n",
    "# Extracting the colors (r, g, b) if they are available\n",
    "if {'red', 'green', 'blue'} <= set(ply_data['vertex'].data.dtype.names):\n",
    "    r = ply_data['vertex']['red'].astype(int)\n",
    "    g = ply_data['vertex']['green'].astype(int)\n",
    "    b = ply_data['vertex']['blue'].astype(int)\n",
    "    colors = np.vstack((r, g, b)).T\n",
    "else:\n",
    "    # If there are no colors, assign a default white color\n",
    "    colors = np.ones((coords.shape[0], 3)) * 255\n",
    "\n",
    "point_cloud = coords\n",
    "\n"
   ]
  },
  {
   "cell_type": "code",
   "execution_count": null,
   "id": "5d3e5965-38d9-4b01-90cc-ec87d3a26be4",
   "metadata": {
    "ExecuteTime": {
     "start_time": "2024-10-09T12:37:22.206675700Z"
    }
   },
   "outputs": [],
   "source": [
    "resolution = 1000\n",
    "\n",
    "#Defining the position in the point cloud to generate a panorama\n",
    "center_coordinates = [3.128129, 5, -6.0]\n"
   ]
  },
  {
   "cell_type": "code",
   "execution_count": null,
   "id": "17597584-273e-4675-a1ea-26e66c383a33",
   "metadata": {
    "ExecuteTime": {
     "start_time": "2024-10-09T12:37:22.208181500Z"
    }
   },
   "outputs": [],
   "source": [
    "#Function Execution\n",
    "spherical_image, mapping = generate_spherical_image(center_coordinates, point_cloud, colors, resolution)\n",
    "\n",
    "\n",
    "#Plotting with matplotlib for front\n",
    "fig = plt.figure(figsize=(np.shape(spherical_image)[1]/72, np.shape(spherical_image)[0]/72))\n",
    "fig.add_axes([0,0,1,1])\n",
    "plt.imshow(spherical_image)\n",
    "plt.axis('off')\n",
    "\n",
    "#Saving to the disk\n",
    "plt.savefig(\"7. Results/BUILDING_spherical_projection_fromsplat.png\", dpi = 72)\n"
   ]
  },
  {
   "cell_type": "code",
   "execution_count": null,
   "id": "e54a1691-502e-4ff9-a82d-fcd2ce747926",
   "metadata": {
    "ExecuteTime": {
     "start_time": "2024-10-09T12:37:22.209188600Z"
    }
   },
   "outputs": [],
   "source": [
    "sam = sam_model_registry[\"vit_l\"](checkpoint = MODEL)\n",
    "sam.to(device = USED_D)\n",
    "\n",
    "mask_generator = SamAutomaticMaskGenerator(\n",
    "    model=sam,\n",
    "    points_per_side=64,  # Higher resolution for better detail due to the complex features.\n",
    "    pred_iou_thresh=0.9,  # High threshold to ensure only high-confidence masks are kept.\n",
    "    stability_score_thresh=0.95,  # High stability to maintain consistent boundaries, especially for architectural elements.\n",
    "    crop_n_layers=1,  # One layer, as the spherical projection may not need multiple layers for accurate segmentation.\n",
    "    crop_n_points_downscale_factor=2,  # Standard setting; balances resolution and performance.\n",
    "    min_mask_region_area=5625  # Slightly larger to avoid noise and capture meaningful structures like windows or signs.\n",
    ")\n",
    "\n",
    "temp_img = cv2.imread(\"7. Results/BUILDING_spherical_projection_fromsplat.png\")\n",
    "image_rgb = cv2.cvtColor(temp_img, cv2.COLOR_BGR2RGB)\n",
    "\n",
    "\n",
    "result = mask_generator.generate(image_rgb)\n"
   ]
  },
  {
   "cell_type": "code",
   "execution_count": null,
   "id": "90b23071-09ed-4c77-a257-2722210f4d11",
   "metadata": {
    "ExecuteTime": {
     "start_time": "2024-10-09T12:37:22.210190900Z"
    },
    "editable": true,
    "scrolled": true,
    "slideshow": {
     "slide_type": ""
    },
    "tags": []
   },
   "outputs": [],
   "source": [
    "#Plotting it back to img\n",
    "fig = plt.figure(figsize=(np.shape(image_rgb)[1]/72, np.shape(image_rgb)[0]/72))\n",
    "fig.add_axes([0,0,1,1])\n",
    "\n",
    "plt.imshow(image_rgb, alpha = 0)\n",
    "color_mask = sam_masks(result)\n",
    "plt.axis('off')\n",
    "plt.savefig(\"7. Results/BUILDING_spherical_projection_segmented_fromsplat.png\", dpi = 72, bbox_inches='tight', pad_inches=0)\n"
   ]
  },
  {
   "cell_type": "code",
   "execution_count": null,
   "id": "c9fbd3fc-c427-4ac0-a37e-db398f77b71c",
   "metadata": {
    "ExecuteTime": {
     "start_time": "2024-10-09T12:37:22.211188200Z"
    },
    "editable": true,
    "slideshow": {
     "slide_type": ""
    },
    "tags": []
   },
   "outputs": [],
   "source": [
    "\n",
    "image_path = \"7. Results/BUILDING_spherical_projection_segmented.png\"\n",
    "def color_point_cloud(image_path, point_cloud, mapping):\n",
    "    image = cv2.imread(image_path)\n",
    "    h, w = image.shape[:2]\n",
    "\n",
    "    # Create an empty array to store the modified point cloud\n",
    "    modified_point_cloud = np.zeros((point_cloud.shape[0], point_cloud.shape[1] + 3), dtype=np.float32)\n",
    "    modified_point_cloud[:, :3] = point_cloud  # Copy the original point cloud\n",
    "\n",
    "    for iy in range(h):\n",
    "        for ix in range(w):\n",
    "            # Clip ix and iy to ensure they don't exceed the bounds\n",
    "            ix_clipped = np.clip(ix, 0, mapping.shape[1] - 1)\n",
    "            iy_clipped = np.clip(iy, 0, mapping.shape[0] - 1)\n",
    "\n",
    "            point_index = mapping[iy_clipped, ix_clipped]\n",
    "\n",
    "            if point_index != -1:  # Ensure the point is valid\n",
    "                color = image[iy_clipped, ix_clipped]\n",
    "                modified_point_cloud[point_index, 3:] = color  # Assign color to the point cloud\n",
    "                # print(f\"Assigned color {color} to point index {point_index}\")\n",
    "\n",
    "    return modified_point_cloud"
   ]
  },
  {
   "cell_type": "code",
   "execution_count": null,
   "id": "7569df16-57b4-4139-8a16-112ce8392d40",
   "metadata": {
    "ExecuteTime": {
     "start_time": "2024-10-09T12:37:22.212186900Z"
    }
   },
   "outputs": [],
   "source": [
    "modified_point_cloud = color_point_cloud(image_path, point_cloud, mapping)"
   ]
  },
  {
   "cell_type": "code",
   "execution_count": null,
   "id": "8a399ab2-1b49-434e-be27-41ed55cf5807",
   "metadata": {
    "ExecuteTime": {
     "start_time": "2024-10-09T12:37:22.213190500Z"
    },
    "editable": true,
    "slideshow": {
     "slide_type": ""
    },
    "tags": []
   },
   "outputs": [],
   "source": [
    "def export_point_cloud(cloud_path, modified_point_cloud):\n",
    "    # 1. Create a new header\n",
    "    header = laspy.LasHeader(point_format=3, version=\"1.2\")\n",
    "    header.add_extra_dim(laspy.ExtraBytesParams(name=\"random\", type=np.int32))\n",
    "\n",
    "    # 2. Create a Las\n",
    "    las_o = laspy.LasData(header)\n",
    "    las_o.x = modified_point_cloud[:,0]\n",
    "    las_o.y = modified_point_cloud[:,1]\n",
    "    las_o.z = modified_point_cloud[:,2]\n",
    "    las_o.red = modified_point_cloud[:,3]\n",
    "    las_o.green = modified_point_cloud[:,4]\n",
    "    las_o.blue = modified_point_cloud[:,5]\n",
    "    las_o.write(cloud_path)\n",
    "    \n",
    "    print(\"Export succesful at: \", cloud_path)\n",
    "    return"
   ]
  },
  {
   "cell_type": "code",
   "execution_count": null,
   "id": "145a0740-7591-4489-be21-4dda35ba1a46",
   "metadata": {
    "ExecuteTime": {
     "start_time": "2024-10-09T12:37:22.214188500Z"
    }
   },
   "outputs": [],
   "source": [
    "export_point_cloud(\"7. Results/pcd_results_SPLATTED.las\", modified_point_cloud)"
   ]
  },
  {
   "cell_type": "code",
   "execution_count": null,
   "id": "a58b553a-3b6b-4473-b26b-cb52ac7a2d06",
   "metadata": {
    "ExecuteTime": {
     "start_time": "2024-10-09T12:37:22.215191300Z"
    },
    "editable": true,
    "slideshow": {
     "slide_type": ""
    },
    "tags": []
   },
   "outputs": [],
   "source": [
    "def add_color_label_to_ply(las_file_path, ply_file_path, output_ply_file_path):\n",
    "    # Step 1: Read LAS file and get the color labels\n",
    "    with laspy.open(las_file_path) as las_file:\n",
    "        las_data = las_file.read()\n",
    "        color_labels = las_data.color_label  # Assuming you have already inserted this column\n",
    "\n",
    "    # Step 2: Read PLY file\n",
    "    ply_data = PlyData.read(ply_file_path)\n",
    "    vertices = ply_data['vertex'].data\n",
    "\n",
    "    # Ensure the number of points matches between the LAS and PLY files\n",
    "    if len(vertices) != len(color_labels):\n",
    "        raise ValueError(\"The number of points in the LAS file does not match the PLY file.\")\n",
    "\n",
    "    # Step 3: Add the labels as a new column to the PLY data\n",
    "    new_dtype = vertices.dtype.descr + [('color_label', 'i4')]\n",
    "    new_vertices = np.empty(vertices.shape, dtype=new_dtype)\n",
    "\n",
    "    for name in vertices.dtype.names:\n",
    "        new_vertices[name] = vertices[name]\n",
    "    new_vertices['color_label'] = color_labels\n",
    "\n",
    "    # Step 4: Write the modified PLY file in binary format\n",
    "    new_ply_element = PlyElement.describe(new_vertices, 'vertex')\n",
    "    PlyData([new_ply_element], text=False).write(output_ply_file_path)\n",
    "\n",
    "    print(f\"PLY file with color labels saved in binary format to: {output_ply_file_path}\")\n",
    "\n",
    "# File paths\n",
    "las_file_path = '1. Data/pcd_results_SPLATTED.las'\n",
    "ply_file_path = '1. DataSPLAT PLY_bouwpub cropped_inBlender-Copy1.ply'\n",
    "output_ply_file_path = '7. Results/SAMSPLAT.ply'\n",
    "add_color_label_to_ply(las_file_path, ply_file_path, output_ply_file_path)"
   ]
  }
 ],
 "metadata": {
  "kernelspec": {
   "display_name": "Python 3 (ipykernel)",
   "language": "python",
   "name": "python3"
  },
  "language_info": {
   "codemirror_mode": {
    "name": "ipython",
    "version": 3
   },
   "file_extension": ".py",
   "mimetype": "text/x-python",
   "name": "python",
   "nbconvert_exporter": "python",
   "pygments_lexer": "ipython3",
   "version": "3.11.10"
  }
 },
 "nbformat": 4,
 "nbformat_minor": 5
}
